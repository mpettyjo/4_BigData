{
 "cells": [
  {
   "cell_type": "code",
   "execution_count": 17,
   "id": "5d5ae93f",
   "metadata": {},
   "outputs": [
    {
     "name": "stdout",
     "output_type": "stream",
     "text": [
      "3.10.6\n"
     ]
    },
    {
     "data": {
      "text/html": [
       "<style>.container { width:100% !important; }</style>"
      ],
      "text/plain": [
       "<IPython.core.display.HTML object>"
      ]
     },
     "metadata": {},
     "output_type": "display_data"
    }
   ],
   "source": [
    "from platform import python_version\n",
    "\n",
    "print(python_version())\n",
    "\n",
    "import matplotlib.pyplot as plt\n",
    "import matplotlib.lines as mlines\n",
    "\n",
    "from rdkit.Chem import rdMolDescriptors\n",
    "from rdkit.Chem import AllChem\n",
    "\n",
    "from mendeleev import element\n",
    "\n",
    "#import chemcoord as cc\n",
    "\n",
    "from rdkit import Chem\n",
    "import seaborn as sns\n",
    "import pandas as pd\n",
    "import numpy as np\n",
    "import shutil\n",
    "import glob\n",
    "import csv\n",
    "import ast\n",
    "import os\n",
    "import re\n",
    "from astroquery.linelists.cdms import CDMS\n",
    "from astroquery.jplspec import JPLSpec\n",
    "import astropy.units as u\n",
    "from sklearn.metrics import r2_score\n",
    "from sklearn.linear_model import LinearRegression\n",
    "#import rmsd\n",
    "\n",
    "#sns.set_context('poster', font_scale=1.1)\n",
    "#pd.set_option('display.max_rows', None)  \n",
    "\n",
    "from IPython.display import display, HTML\n",
    "display(HTML(\"<style>.container { width:100% !important; }</style>\"))"
   ]
  },
  {
   "cell_type": "code",
   "execution_count": 22,
   "id": "c3e92139",
   "metadata": {},
   "outputs": [],
   "source": [
    "## CDMS ##\n",
    "# phosphine, methanol, formic acid, not used: cyclopropene,'040506 c-C3H4'\n",
    "CDMS_molecule_list = ['034501 PH3','032504 CH3OH','046506 t-HCOOH']\n",
    "\n",
    "## JPL ##\n",
    "# acetonitrile, acetaldehyde, methylformate\n",
    "JPL_molecule_list = ['41001 CH3CN','44003 CH3CHO','60003 CH3OCHO']\n",
    "\n",
    "molecule_names_list = [r'Phosphine - PH$_3$', r'Methanol - CH$_3$OH', \n",
    "                       r'Formic Acid - HCOOH', r'Acetonitrile - CH$_3$CN',\n",
    "                       r'Acetaldehyde - CH$_3$CHO', r'Methylformate - CH$_3$OCHO']"
   ]
  },
  {
   "cell_type": "markdown",
   "id": "5652065a",
   "metadata": {},
   "source": [
    "# Functions"
   ]
  },
  {
   "cell_type": "code",
   "execution_count": 23,
   "id": "78e2675a",
   "metadata": {},
   "outputs": [],
   "source": [
    "## get lines from CDMS ## \n",
    "def CDMS_get_frequencues_intensities(molecule):\n",
    "    ''' Grabs frequency and intensity data from CDMS for a molecule.\n",
    "    \n",
    "    Parameters \n",
    "    ----------\n",
    "    molecule: string\n",
    "              CDMS code for molecule, as given in https://cdms.astro.uni-koeln.de/cgi-bin/cdmssearch\n",
    "              \n",
    "    Returns\n",
    "    -------\n",
    "    frequencies: list of floats\n",
    "                 List of frequencies of transitions in frequency range. Given in MHz units.\n",
    "    \n",
    "    intensties:  list of floats\n",
    "                 List of intensities of molecule in frequency range. Given in Log form and MHz nm2 units.\n",
    "    '''\n",
    "    table = CDMS.query_lines(min_frequency=0*u.MHz,\n",
    "                         max_frequency=6e6*u.MHz,\n",
    "                         min_strength=-10,\n",
    "                         temperature_for_intensity=300,\n",
    "                         molecule=molecule) \n",
    "    frequencies = np.array(table['FREQ'])\n",
    "    intensities = np.array(table['LGINT'])\n",
    "    \n",
    "    return frequencies, intensities"
   ]
  },
  {
   "cell_type": "code",
   "execution_count": 24,
   "id": "ca371bd1",
   "metadata": {},
   "outputs": [],
   "source": [
    "## get lines from JPL ## \n",
    "def JPL_get_frequencues_intensities(molecule):\n",
    "    ''' Grabs frequency and intensity data from JPL for a molecule.\n",
    "    \n",
    "    Parameters \n",
    "    ----------\n",
    "    molecule: string\n",
    "              JPL code for molecule, as given in https://spec.jpl.nasa.gov/ftp/pub/catalog/catform.html\n",
    "              \n",
    "    Returns\n",
    "    -------\n",
    "    frequencies: list of floats\n",
    "                 List of frequencies of transitions in frequency range. Given in MHz units.\n",
    "    \n",
    "    intensties:  list of floats\n",
    "                 List of intensities of molecule in frequency range. Given in Log form and MHz nm2 units.\n",
    "    '''\n",
    "    table =  JPLSpec.query_lines(min_frequency=0*u.MHz,\n",
    "                         max_frequency=6e6*u.MHz,\n",
    "                         min_strength=-10,\n",
    "                         molecule=molecule) \n",
    "    frequencies = np.array(table['FREQ'])\n",
    "    intensities = np.array(table['LGINT'])\n",
    "    \n",
    "    return frequencies, intensities"
   ]
  },
  {
   "cell_type": "code",
   "execution_count": null,
   "id": "c682b19e",
   "metadata": {},
   "outputs": [],
   "source": [
    "def make_spectra():\n",
    "    \n",
    "    return"
   ]
  },
  {
   "cell_type": "code",
   "execution_count": null,
   "id": "6d3afc91",
   "metadata": {},
   "outputs": [],
   "source": [
    "def plot_CDMS(frequencies,intensities,):\n",
    "    \n",
    "    return"
   ]
  },
  {
   "cell_type": "code",
   "execution_count": null,
   "id": "63495784",
   "metadata": {},
   "outputs": [],
   "source": []
  }
 ],
 "metadata": {
  "kernelspec": {
   "display_name": "Python 3 (ipykernel)",
   "language": "python",
   "name": "python3"
  },
  "language_info": {
   "codemirror_mode": {
    "name": "ipython",
    "version": 3
   },
   "file_extension": ".py",
   "mimetype": "text/x-python",
   "name": "python",
   "nbconvert_exporter": "python",
   "pygments_lexer": "ipython3",
   "version": "3.10.6"
  }
 },
 "nbformat": 4,
 "nbformat_minor": 5
}
