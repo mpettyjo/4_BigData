{
 "cells": [
  {
   "cell_type": "code",
   "execution_count": 1,
   "metadata": {},
   "outputs": [],
   "source": [
    "'''\n",
    "This program is used to plot the rotational constant and dipole distributions for the \n",
    "BigData1 paper.\n",
    "'''\n",
    "\n",
    "# import packages\n",
    "import pandas as pd\n",
    "import numpy as np\n",
    "import seaborn as sns\n",
    "import matplotlib.pyplot as plt\n",
    "import corner"
   ]
  },
  {
   "attachments": {},
   "cell_type": "markdown",
   "metadata": {},
   "source": [
    "# Functions"
   ]
  },
  {
   "cell_type": "code",
   "execution_count": null,
   "metadata": {},
   "outputs": [],
   "source": []
  },
  {
   "cell_type": "code",
   "execution_count": null,
   "metadata": {},
   "outputs": [],
   "source": [
    "df_ground = pd.read_csv('/Users/mpettyjo/Documents/Research/4_BigData/B971_def2TZVPD_DataFile1_GroundState.csv') # load groundstate csv file\n",
    "rays_asymm = (2*df_ground['B [cm-1]'].values - df_ground['A [cm-1]'].values - df_ground['C [cm-1]'].values)/(df_ground['A [cm-1]'].values - df_ground['C [cm-1]'].values)\n",
    "\n",
    "df_ground['rays_asymm'] = rays_asymm"
   ]
  }
 ],
 "metadata": {
  "kernelspec": {
   "display_name": "researchenv",
   "language": "python",
   "name": "python3"
  },
  "language_info": {
   "codemirror_mode": {
    "name": "ipython",
    "version": 3
   },
   "file_extension": ".py",
   "mimetype": "text/x-python",
   "name": "python",
   "nbconvert_exporter": "python",
   "pygments_lexer": "ipython3",
   "version": "3.10.6"
  },
  "orig_nbformat": 4
 },
 "nbformat": 4,
 "nbformat_minor": 2
}
